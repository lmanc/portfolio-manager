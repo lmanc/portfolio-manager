{
 "cells": [
  {
   "cell_type": "code",
   "execution_count": 1,
   "id": "f629abb0-7bcf-4dec-896a-11c5da18177e",
   "metadata": {
    "tags": []
   },
   "outputs": [],
   "source": [
    "import pandas as pd"
   ]
  },
  {
   "cell_type": "code",
   "execution_count": 2,
   "id": "fa032497-14d6-44f4-a447-09dd07e194a7",
   "metadata": {
    "tags": []
   },
   "outputs": [],
   "source": [
    "def read_portfolio(name: str = 'portfolio.csv') -> pd.DataFrame:\n",
    "    \"\"\"\n",
    "    Reads a .csv file and returns it as a pandas DataFrame.\n",
    "\n",
    "    Args:\n",
    "        name (str, optional): The name of the csv file to read. Defaults to 'portfolio.csv'.\n",
    "\n",
    "    Returns:\n",
    "        pd.DataFrame: A pandas DataFrame containing the data from the .csv file.\n",
    "\n",
    "    Raises:\n",
    "        FileNotFoundError: If the specified file does not exist.\n",
    "    \"\"\"\n",
    "    try:\n",
    "        return pd.read_csv(name)\n",
    "    except FileNotFoundError as e:\n",
    "        print(e)\n",
    "        exit()"
   ]
  },
  {
   "cell_type": "code",
   "execution_count": 3,
   "id": "313c9f64-00fb-4262-871f-377994c2ef92",
   "metadata": {
    "tags": []
   },
   "outputs": [],
   "source": [
    "def read_allocation(name: str = 'assets.csv') -> pd.DataFrame:\n",
    "    \"\"\"\n",
    "    Reads an allocation file and returns it as a pandas DataFrame.\n",
    "\n",
    "    Args:\n",
    "        name (str): Optional. The name of the allocation file to read. Default is 'assets.csv'.\n",
    "\n",
    "    Returns:\n",
    "        pd.DataFrame: A pandas DataFrame representing the allocation data.\n",
    "\n",
    "    Raises:\n",
    "        FileNotFoundError: If the specified file does not exist.\n",
    "        ValueError: If the sum of percentages in the \"Expected Percentage\" column is not equal to 100.\n",
    "    \"\"\"\n",
    "    try:\n",
    "        df = pd.read_csv(name)\n",
    "    except FileNotFoundError as e:\n",
    "        print(e)\n",
    "        exit()\n",
    "\n",
    "    try:\n",
    "        if (s := df['Expected Percentage'].sum()) != 100:\n",
    "            raise ValueError(\n",
    "                f'The total sum of percentages in the \"Percentage\" column is {s}%, not 100.0%'\n",
    "            )\n",
    "    except KeyError as e:\n",
    "        print(e)\n",
    "        exit()\n",
    "\n",
    "    df.set_index('ISIN', inplace=True)\n",
    "\n",
    "    return df"
   ]
  },
  {
   "cell_type": "code",
   "execution_count": 4,
   "id": "cdd167b4-c468-49d7-8596-8b88764d9508",
   "metadata": {
    "tags": []
   },
   "outputs": [],
   "source": [
    "def clean_dataframe(df: pd.DataFrame) -> None:\n",
    "    \"\"\"\n",
    "    Cleans the given dataframe 'df' by standardizing column names, converting 'Value in EUR' values\n",
    "    to float type, and dropping rows with missing 'ISIN' values. The function operates in place,\n",
    "    therefore the changes will be reflected in the original dataframe.\n",
    "\n",
    "    This function attempts to rename dataframe columns to specific names:\n",
    "    ['Product', 'ISIN', 'Amount', 'Closing', 'Local value', 'Value in EUR']. If this fails, it will\n",
    "    print the error message and terminate the program.\n",
    "\n",
    "    The function also attempts to change 'Value in EUR' column values to float type after replacing\n",
    "    ',' with '.' in these values. In case of any failure (KeyError, AttributeError, ValueError),\n",
    "    the error message will be printed and the program will be terminated.\n",
    "\n",
    "    Lastly, the function tries to drop rows with NaN 'ISIN' values. If a KeyError is encountered,\n",
    "    it will print the error and terminate the program.\n",
    "\n",
    "    Args:\n",
    "        df (pd.DataFrame): Dataframe to be cleaned.\n",
    "\n",
    "    Raises:\n",
    "        ValueError: If column renaming fails due to the provided dataframe not having the correct number of columns.\n",
    "        KeyError: If 'Value in EUR' or 'ISIN' column doesn't exist in the dataframe.\n",
    "        AttributeError: If 'Value in EUR' column values are not strings or don't have replace method.\n",
    "        ValueError: If 'Value in EUR' column values cannot be converted to float type.\n",
    "\n",
    "    Returns:\n",
    "        None\n",
    "    \"\"\"\n",
    "    try:\n",
    "        df.columns = [\n",
    "            'Product',\n",
    "            'ISIN',\n",
    "            'Amount',\n",
    "            'Closing',\n",
    "            'Local value',\n",
    "            'Value in EUR',\n",
    "        ]\n",
    "    except ValueError as e:\n",
    "        print(e)\n",
    "        exit()\n",
    "\n",
    "    try:\n",
    "        df['Value in EUR'] = (\n",
    "            df['Value in EUR']\n",
    "            .apply(lambda x: x.replace(',', '.'))\n",
    "            .astype('float')\n",
    "        )\n",
    "    except (KeyError, AttributeError, ValueError) as e:\n",
    "        print(e)\n",
    "        exit()\n",
    "\n",
    "    try:\n",
    "        df.dropna(inplace=True, subset=['ISIN'])\n",
    "    except KeyError:\n",
    "        print(e)\n",
    "        exit()\n",
    "\n",
    "    df.set_index('ISIN', inplace=True)"
   ]
  },
  {
   "cell_type": "code",
   "execution_count": 5,
   "id": "8cd814f6-822e-4dfe-a3d2-b9d6087a6ee7",
   "metadata": {
    "tags": []
   },
   "outputs": [],
   "source": [
    "def get_total_value(df: pd.DataFrame) -> float:\n",
    "    \"\"\"\n",
    "    Calculates and returns the total value of the 'Value in EUR' column in the provided pandas DataFrame.\n",
    "\n",
    "    Args:\n",
    "        df (pd.DataFrame): The DataFrame containing the data. Expected to have a column named 'Value in EUR'.\n",
    "\n",
    "    Returns:\n",
    "        float: The total value of the 'Value in EUR' column.\n",
    "\n",
    "    Raises:\n",
    "        KeyError: If the DataFrame does not contain a 'Value in EUR' column.\n",
    "    \"\"\"\n",
    "    try:\n",
    "        return df['Value in EUR'].sum()\n",
    "    except KeyError as e:\n",
    "        print(e)\n",
    "        exit()"
   ]
  },
  {
   "cell_type": "code",
   "execution_count": 6,
   "id": "5a342f43-57ee-42dc-bce4-d6edf627a6ea",
   "metadata": {
    "tags": []
   },
   "outputs": [],
   "source": [
    "def build_working_dataframe(\n",
    "    pf: pd.DataFrame, al: pd.DataFrame\n",
    ") -> pd.DataFrame:\n",
    "    \"\"\"\n",
    "    This function creates a working DataFrame from the provided DataFrames.\n",
    "    The function drops several columns from the primary dataframe, then\n",
    "    calculates and adds a new column 'Current Percentage'. Finally, it joins\n",
    "    the additional DataFrame on the primary DataFrame and returns the result.\n",
    "\n",
    "    Args:\n",
    "        pf (pd.DataFrame): The primary DataFrame.\n",
    "        al (pd.DataFrame): The additional dataframe to be joined with the\n",
    "            primary dataframe.\n",
    "\n",
    "    Returns:\n",
    "        pd.DataFrame: The resulting dataframe after dropping specified columns,\n",
    "            adding 'Current Percentage' column, and joining with the additional DataFrame.\n",
    "    \"\"\"\n",
    "    df = pf.drop(['Amount', 'Closing', 'Local value'], axis=1)\n",
    "    df['Current Percentage'] = (\n",
    "        df['Value in EUR'] / get_total_value(df) * 100\n",
    "    ).apply(lambda x: round(x, 2))\n",
    "\n",
    "    return df.join(al)"
   ]
  },
  {
   "cell_type": "code",
   "execution_count": 7,
   "id": "e1779f05-06ae-4012-a951-640680c55715",
   "metadata": {
    "tags": []
   },
   "outputs": [],
   "source": [
    "pf = read_portfolio()\n",
    "clean_dataframe(pf)\n",
    "\n",
    "al = read_allocation()\n",
    "\n",
    "df = build_working_dataframe(pf, al)"
   ]
  }
 ],
 "metadata": {
  "kernelspec": {
   "display_name": "Python 3 (ipykernel)",
   "language": "python",
   "name": "python3"
  },
  "language_info": {
   "codemirror_mode": {
    "name": "ipython",
    "version": 3
   },
   "file_extension": ".py",
   "mimetype": "text/x-python",
   "name": "python",
   "nbconvert_exporter": "python",
   "pygments_lexer": "ipython3",
   "version": "3.10.6"
  }
 },
 "nbformat": 4,
 "nbformat_minor": 5
}
